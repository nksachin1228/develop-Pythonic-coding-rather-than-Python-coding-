{
  "nbformat": 4,
  "nbformat_minor": 0,
  "metadata": {
    "colab": {
      "name": "Day 1 sesson 2 Exercises.ipynb",
      "provenance": [],
      "authorship_tag": "ABX9TyOHdB7GEC0rGKzaRAqxl5Wx",
      "include_colab_link": true
    },
    "kernelspec": {
      "name": "python3",
      "display_name": "Python 3"
    }
  },
  "cells": [
    {
      "cell_type": "markdown",
      "metadata": {
        "id": "view-in-github",
        "colab_type": "text"
      },
      "source": [
        "<a href=\"https://colab.research.google.com/github/nksachin1228/develop-Pythonic-coding-rather-than-Python-coding-/blob/master/Day_1_sesson_2_Exercises.ipynb\" target=\"_parent\"><img src=\"https://colab.research.google.com/assets/colab-badge.svg\" alt=\"Open In Colab\"/></a>"
      ]
    },
    {
      "cell_type": "markdown",
      "metadata": {
        "id": "pT2x82lNngjT",
        "colab_type": "text"
      },
      "source": [
        "#1. Write a program to print the triangle \n",
        "#i/p  4\n",
        "\n",
        "#1 \n",
        "#2 3 \n",
        "#4 5 6 \n",
        "#7 8 9 10 \n"
      ]
    },
    {
      "cell_type": "code",
      "metadata": {
        "id": "Gjb7gnDhqOhz",
        "colab_type": "code",
        "colab": {}
      },
      "source": [
        "currentNumber = 1\n",
        "rows = 4  # Rows you want in your pattern\n",
        "stop = 2\n",
        "for i in range(rows):\n",
        "    for column in range(1, stop):\n",
        "        print(currentNumber, end=' ')\n",
        "        currentNumber += 1\n",
        "    print(\"\")\n",
        "    stop += 1\n"
      ],
      "execution_count": null,
      "outputs": []
    },
    {
      "cell_type": "markdown",
      "metadata": {
        "id": "Ynwie5Z7Q8U7",
        "colab_type": "text"
      },
      "source": [
        "#2. Write a program to print the triangle i/p  4\n",
        "\n",
        "#1\n",
        "#2    3\n",
        "#3    4   5\n",
        "#4    5   6   7\n"
      ]
    },
    {
      "cell_type": "code",
      "metadata": {
        "id": "e5IfdMm0RLO7",
        "colab_type": "code",
        "colab": {}
      },
      "source": [
        "k=1\n",
        "n=4\n",
        "for i in range(0,n):\n",
        "  if(i>=2):\n",
        "    k=i+1\n",
        "  for j in range(0,i+1):\n",
        "    print(k,end=\" \")\n",
        "    k=k+1\n",
        "  print()"
      ],
      "execution_count": null,
      "outputs": []
    },
    {
      "cell_type": "markdown",
      "metadata": {
        "id": "CiCAhjZF00BZ",
        "colab_type": "text"
      },
      "source": [
        "#3.Write a program to print\n",
        "#*\n",
        "#* *\n",
        "#* * *\n",
        "#* * * *\n"
      ]
    },
    {
      "cell_type": "code",
      "metadata": {
        "id": "5KqGqEO006xw",
        "colab_type": "code",
        "colab": {}
      },
      "source": [
        "n = 4\n",
        "for i in range(0, n):\n",
        "    for j in range(0, i + 1):\n",
        "        print(\"*\", end=\" \")\n",
        "    print(\"\\n\") # insted of /n we can use /r also."
      ],
      "execution_count": null,
      "outputs": []
    },
    {
      "cell_type": "markdown",
      "metadata": {
        "id": "RfMXTYuq36sV",
        "colab_type": "text"
      },
      "source": [
        "#4.Enter number 5\n",
        "#5 4 3 2 1 \n",
        "#4 3 2 1 \n",
        "#3 2 1 \n",
        "#2 1 \n",
        "#1 "
      ]
    },
    {
      "cell_type": "code",
      "metadata": {
        "id": "bsxfLmVC37YP",
        "colab_type": "code",
        "colab": {}
      },
      "source": [
        "rows = 5\n",
        "for i in range(0, rows + 1):\n",
        "    for j in range(rows - i, 0, -1):\n",
        "        print(j, end=' ')\n",
        "    print()"
      ],
      "execution_count": null,
      "outputs": []
    },
    {
      "cell_type": "markdown",
      "metadata": {
        "id": "FSzbO1yZotYS",
        "colab_type": "text"
      },
      "source": [
        "#5.Find the length of a string without using len functions"
      ]
    },
    {
      "cell_type": "code",
      "metadata": {
        "id": "k0si4cGlouE-",
        "colab_type": "code",
        "colab": {}
      },
      "source": [
        "def findLength(string): \n",
        "  count = 0\n",
        "  for i in string: \n",
        "        count+= 1\n",
        "  return count \n",
        "  \n",
        "string = \"sachin Krishna\"\n",
        "print(findLength(string)) \n",
        "\n",
        "\n"
      ],
      "execution_count": null,
      "outputs": []
    },
    {
      "cell_type": "markdown",
      "metadata": {
        "id": "Onw5OYQPprPt",
        "colab_type": "text"
      },
      "source": [
        "#.6 Find the no of words and characters in a string\n",
        "\n"
      ]
    },
    {
      "cell_type": "code",
      "metadata": {
        "id": "g1YouwbEpvFZ",
        "colab_type": "code",
        "colab": {}
      },
      "source": [
        " def Length(m): \n",
        "    count = 0\n",
        "    word = 1\n",
        "    for i in m: \n",
        "        count+= 1\n",
        "        if (i==' '):\n",
        "            word=word+1\n",
        "    print(\"# of characters :\",count)\n",
        "    print(\"# of words:\",word)\n",
        "\n",
        "input_string = \"sachin krishna\"\n",
        "Length(input_string)\n",
        " \n",
        " \n",
        "  "
      ],
      "execution_count": null,
      "outputs": []
    },
    {
      "cell_type": "markdown",
      "metadata": {
        "id": "Bck6F2u_czqu",
        "colab_type": "text"
      },
      "source": [
        "#7.Find the no of occurrences of a word in a string"
      ]
    },
    {
      "cell_type": "code",
      "metadata": {
        "id": "L5bWE3RWc2-T",
        "colab_type": "code",
        "colab": {}
      },
      "source": [
        "string = \"alvas institute of engineering and technology\"\n",
        "substring = \"alvas\"\n",
        "count = string.count(substring)\n",
        "print(\"The count is:\", count)"
      ],
      "execution_count": null,
      "outputs": []
    }
  ]
}