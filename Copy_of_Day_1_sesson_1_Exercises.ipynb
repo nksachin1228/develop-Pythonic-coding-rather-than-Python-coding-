{
  "nbformat": 4,
  "nbformat_minor": 0,
  "metadata": {
    "colab": {
      "name": "Copy of Day 1 sesson 1 Exercises.ipynb",
      "provenance": [],
      "authorship_tag": "ABX9TyNpSTqCc6KA61qq8Ty2Qbqb",
      "include_colab_link": true
    },
    "kernelspec": {
      "name": "python3",
      "display_name": "Python 3"
    }
  },
  "cells": [
    {
      "cell_type": "markdown",
      "metadata": {
        "id": "view-in-github",
        "colab_type": "text"
      },
      "source": [
        "<a href=\"https://colab.research.google.com/github/nksachin1228/develop-Pythonic-coding-rather-than-Python-coding-/blob/master/Copy_of_Day_1_sesson_1_Exercises.ipynb\" target=\"_parent\"><img src=\"https://colab.research.google.com/assets/colab-badge.svg\" alt=\"Open In Colab\"/></a>"
      ]
    },
    {
      "cell_type": "markdown",
      "metadata": {
        "id": "gZI749qV6OgP",
        "colab_type": "text"
      },
      "source": [
        "#1.\tFind the compound interest for the given p,n,r  (formula : p(1+n*r/100)n )"
      ]
    },
    {
      "cell_type": "code",
      "metadata": {
        "id": "QNrFglJx6VhS",
        "colab_type": "code",
        "colab": {}
      },
      "source": [
        "p = float(input(\"enter the value of  p : \"))\n",
        "n = float(input(\"enter the value of  n : \"))\n",
        "r = float(input(\"enter the value of  r : \"))\n",
        "\n",
        "ci = p * (pow((1 + r / 100), n))\n",
        "print(\"compound interest :\",ci)\n"
      ],
      "execution_count": null,
      "outputs": []
    },
    {
      "cell_type": "markdown",
      "metadata": {
        "id": "k-G7Im9PI6UY",
        "colab_type": "text"
      },
      "source": [
        "#2.\tConvert centegrade to farenheit  ( f= 9/5*c+32)"
      ]
    },
    {
      "cell_type": "code",
      "metadata": {
        "id": "BU_LdBieJDEv",
        "colab_type": "code",
        "colab": {
          "base_uri": "https://localhost:8080/",
          "height": 50
        },
        "outputId": "b2a2021c-1215-42d1-9c76-e66b5c5f2778"
      },
      "source": [
        "c=float(input(\"enter the value in centigrade: \"))\n",
        "f=9/5*c+32\n",
        "print(c,\"centigrade is equl to \",f,\" farenheit\")"
      ],
      "execution_count": null,
      "outputs": [
        {
          "output_type": "stream",
          "text": [
            "enter the value in centigrade: 36\n",
            "36.0 centigrade is equl to  96.8  farenheit\n"
          ],
          "name": "stdout"
        }
      ]
    },
    {
      "cell_type": "markdown",
      "metadata": {
        "id": "VGkbFQJBOtCX",
        "colab_type": "text"
      },
      "source": [
        "#3.\tFind the greater of two nos "
      ]
    },
    {
      "cell_type": "code",
      "metadata": {
        "id": "8XV9llFbOu15",
        "colab_type": "code",
        "colab": {
          "base_uri": "https://localhost:8080/",
          "height": 67
        },
        "outputId": "a23b0f7d-4de8-4d8e-9ae7-bc13cb2295dc"
      },
      "source": [
        "n1 = float(input(\"enter n1 : \"))\n",
        "n2 = float(input(\"enter n2 : \"))\n",
        "if(n1>n2):\n",
        "  print(n1)\n",
        "else:\n",
        "  print(n2)\n",
        "\n"
      ],
      "execution_count": null,
      "outputs": [
        {
          "output_type": "stream",
          "text": [
            "enter n1 : 5\n",
            "enter n2 : 6\n",
            "6.0\n"
          ],
          "name": "stdout"
        }
      ]
    },
    {
      "cell_type": "markdown",
      "metadata": {
        "id": "_3lSvD1GPiYg",
        "colab_type": "text"
      },
      "source": [
        "#4.\tWrite a program for finding surface areas of cylinder and cone (2*PI*r*r*h, 1/3*PI*r*r*h) using function."
      ]
    },
    {
      "cell_type": "code",
      "metadata": {
        "id": "uXF-cot-PpO0",
        "colab_type": "code",
        "colab": {}
      },
      "source": [
        "#from math import pi\n",
        "def area_of_cone(r,h):\n",
        "  return (2*pi*r*r*h)\n",
        "\n",
        "def area_of_cylinder(r,h):\n",
        "  return (1/3*pi*r*r*h)\n",
        "\n",
        "r=int(input(\"enter radius in meters : \"))\n",
        "h=int(input(\"enter hight in meters : \"))\n",
        "cone=area_of_cone(r,h)\n",
        "cyll=area_of_cylinder(r,h)\n",
        "print(\"area_of_cone :\",round(cone),\"square metre\")\n",
        "print(\"area_of_cylinder :\",round(cyll),\"square metre\")"
      ],
      "execution_count": null,
      "outputs": []
    },
    {
      "cell_type": "markdown",
      "metadata": {
        "id": "7J_8ShVQWwJM",
        "colab_type": "text"
      },
      "source": [
        "#5.\tFind the greatest of four nos ( using ‘and’ operator)   using function."
      ]
    },
    {
      "cell_type": "code",
      "metadata": {
        "id": "tpiLvTFdW060",
        "colab_type": "code",
        "colab": {}
      },
      "source": [
        "def function(a,b):\n",
        "  return (a and b )\n",
        "\n",
        "n1=int(input(\"Enter N1 : \"))\n",
        "n2=int(input(\"Enter N2 : \"))\n",
        "n3=int(input(\"Enter N3 : \"))\n",
        "n4=int(input(\"Enter N4 : \"))\n",
        "\n",
        "r1=function(n1,n2)\n",
        "r2=function(n3,n4)\n",
        "print(function(r1,r2))\n",
        "\n",
        "\n",
        "\n"
      ],
      "execution_count": null,
      "outputs": []
    },
    {
      "cell_type": "markdown",
      "metadata": {
        "id": "qiKQrdRrZUbR",
        "colab_type": "text"
      },
      "source": [
        "#6.\tWrite a  menu program to perform the operations ( ODDorEven, Factorial, ODDNoUptoN, PrimeUptoN ) using functions for two nos with  menu choice"
      ]
    },
    {
      "cell_type": "code",
      "metadata": {
        "id": "9xlV3zY3ZZMj",
        "colab_type": "code",
        "colab": {}
      },
      "source": [
        "def ODDorEven(m):\n",
        "  if m%2==0:\n",
        "     print(\"even\")\n",
        "  else:\n",
        "     print(\"odd\")\n",
        "  \n",
        "\n",
        "def Factorial(m):\n",
        "  if m == 1:\n",
        "   return m\n",
        "  elif m < 1:\n",
        "   return (\"None\")\n",
        "  else:\n",
        "   return m*Factorial(m-1)\n",
        "  print (Factorial(int(m)))\n",
        "\n",
        "def ODDNoUpto(m):\n",
        " for i in range (m):\n",
        "   if i%2!=0:\n",
        "     print(i)\n",
        "    \n",
        "def PrimeUpto(m):\n",
        "  for i in range(m):  \n",
        "   if i > 1:  \n",
        "       for j in range(2,i):  \n",
        "           if (i % j) == 0:  \n",
        "               break  \n",
        "       else:  \n",
        "           print(i)  \n",
        "\n",
        "\n",
        "n=int(input(\"enter the N : \"))\n",
        "print(\"menu details :\\n1.ODDorEVEN\\n2.Factorial\\n3.ODDNoUptoN\\n4.PrimeUptoN\")\n",
        "choice=int(input('enter your choice : '))\n",
        "\n",
        "if (choice==1):\n",
        "  ODDorEven(n)\n",
        "elif (choice==2):\n",
        " print (Factorial(int(n)))\n",
        "elif (choice==3):\n",
        "  ODDNoUpto(n)\n",
        "elif (choice==4):\n",
        " PrimeUpto(n)\n",
        "else:\n",
        "  print(\"invalid choice plzz try again...!!!\")\n",
        "\n",
        "\n",
        "\n",
        "\n"
      ],
      "execution_count": null,
      "outputs": []
    }
  ]
}